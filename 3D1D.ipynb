{
  "cells": [
    {
      "cell_type": "markdown",
      "metadata": {
        "id": "view-in-github",
        "colab_type": "text"
      },
      "source": [
        "<a href=\"https://colab.research.google.com/github/isosafrasaurus/3D-1D/blob/main/3D1D.ipynb\" target=\"_parent\"><img src=\"https://colab.research.google.com/assets/colab-badge.svg\" alt=\"Open In Colab\"/></a>"
      ]
    },
    {
      "cell_type": "code",
      "source": [
        "from google.colab import drive\n",
        "drive.mount('/content/drive')\n",
        "\n",
        "from IPython.display import Javascript\n",
        "display(Javascript('''google.colab.output.setIframeHeight(0, true, {maxHeight: 100})'''))"
      ],
      "metadata": {
        "colab": {
          "base_uri": "https://localhost:8080/",
          "height": 34
        },
        "id": "_Cax3RnzYpnz",
        "outputId": "3a5cc988-9dc3-4004-f475-2cfa8e6dac82"
      },
      "execution_count": 1,
      "outputs": [
        {
          "output_type": "stream",
          "name": "stdout",
          "text": [
            "Mounted at /content/drive\n"
          ]
        },
        {
          "output_type": "display_data",
          "data": {
            "text/plain": [
              "<IPython.core.display.Javascript object>"
            ],
            "application/javascript": [
              "google.colab.output.setIframeHeight(0, true, {maxHeight: 300})"
            ]
          },
          "metadata": {}
        }
      ]
    },
    {
      "cell_type": "markdown",
      "source": [
        "# Symbols\n",
        "\n",
        "---\n",
        "\n",
        "\n",
        "| Variable                                 \t| Unit of Measurement \t|\n",
        "|------------------------------------------\t|----------------------\t|\n",
        "| $k$, permeability of the liver           \t| $m^2$                \t|\n",
        "| $\\mu_s$, viscosity of embolizing solution \t| $Pa \\cdot s$         \t|\n",
        "| $\\mu_o$, viscosity of blood               \t| $Pa \\cdot s$         \t|\n",
        "| distances                                \t| $m$                  \t|\n",
        "\n",
        "| **Symbol**                  | **Description**                                | **Unit**           |\n",
        "|-----------------------------|------------------------------------------------|--------------------|\n",
        "| $ k $                     | Permeability of the liver                      | $ \\mathrm{m}^2 $ |\n",
        "| $ \\mu_s $                 | Viscosity of embolizing solution               | $ \\mathrm{Pa} \\cdot \\mathrm{s} $ |\n",
        "| $ \\mu_o $                 | Viscosity of blood                             | $ \\mathrm{Pa} \\cdot \\mathrm{s} $ |\n",
        "| $ \\Omega $                | 3D Bulk Domain                                 | Dimensionless      |\n",
        "| $ \\Sigma $                | Cylindrical Vessel                             | Dimensionless      |\n",
        "| $ \\Gamma $                | Lateral Boundary of $ \\Sigma $               | Dimensionless      |\n",
        "| $ \\Gamma_0, \\Gamma_S $    | Top and Bottom Faces of $ \\Sigma $           | Dimensionless      |\n",
        "| $ \\lambda(s) $            | $\\mathcal{C}^2$-regular Curve (Centerline)    | $ \\mathrm{m} $ (Parameter $ s $) |\n",
        "| $ s $                     | Arc-length Parameter along $ \\lambda $        | $ \\mathrm{m} $   |\n",
        "| $ \\Lambda $               | Centerline of $ \\Sigma $                      | Dimensionless      |\n",
        "| $ \\mathcal{D}(s) $        | Cross-section of $ \\Sigma $                   | $ \\mathrm{m}^2 $ |\n",
        "| $ \\partial \\mathcal{D}(s) $| Boundary of Cross-section $ \\mathcal{D}(s) $  | $ \\mathrm{m} $   |\n",
        "| $ u_{\\oplus} $            | Fluid Potential in $ \\Omega $ (Exterior)       | $ \\mathrm{Pa} $  |\n",
        "| $ u_{\\ominus} $           | Fluid Potential in $ \\Lambda $ (Interior)      | $ \\mathrm{Pa} $  |\n",
        "| $ \\beta $                 | Coupling Coefficient                            | $ \\frac{\\mathrm{m}^3}{\\mathrm{s} \\cdot \\mathrm{Pa}} $ |\n",
        "| $ \\kappa $                | Permeability Coefficient                        | $ \\frac{\\mathrm{m}^2}{\\mathrm{s} \\cdot \\mathrm{Pa}} $ |\n",
        "| $ g $                     | Source Term                                    | $ \\frac{\\mathrm{m}}{\\mathrm{s}} $ |\n",
        "| $ \\alpha $                | Diffusion Coefficient                           | $ \\frac{\\mathrm{m}^2}{\\mathrm{s} \\cdot \\mathrm{Pa}} $ |\n",
        "| $ \\Delta $                | Laplacian Operator                              | $ \\frac{1}{\\mathrm{m}^2} $ |\n",
        "| $ \\delta_{\\Lambda} $      | Dirac Measure on $ \\Lambda $                  | $ \\frac{1}{\\mathrm{m}^2} $ |\n",
        "| $ f $                     | Forcing Term                                    | $ \\frac{1}{\\mathrm{s}} $ |\n",
        "| $ \\bar{u}_{\\oplus} $      | Averaged Fluid Potential in $ \\Omega $         | $ \\mathrm{Pa} $  |\n",
        "| $ \\bar{u}_{\\ominus} $     | Averaged Fluid Potential in $ \\Lambda $        | $ \\mathrm{Pa} $  |"
      ],
      "metadata": {
        "id": "rTD1sqnHsA2S"
      }
    },
    {
      "cell_type": "code",
      "execution_count": 2,
      "metadata": {
        "cellView": "form",
        "id": "F5e7FAYF_3VT"
      },
      "outputs": [],
      "source": [
        "# @title Install nonstandard libraries\n",
        "%%capture\n",
        "!pip install ipywidgets\n",
        "!pip install vtk\n",
        "!pip install meshio\n",
        "!pip install pyvista\n",
        "!pip install Rtree\n",
        "\n",
        "import os, re\n",
        "\n",
        "def replace_in_file(file_path):\n",
        "    with open(file_path, 'r', encoding='utf-8') as file:\n",
        "        content = file.read()\n",
        "\n",
        "    # Replace 'ufl' with 'ufl_legacy'\n",
        "    content = re.sub(r'\\bufl\\b', 'ufl_legacy', content)\n",
        "\n",
        "    with open(file_path, 'w', encoding='utf-8') as file:\n",
        "        file.write(content)\n",
        "\n",
        "def process_directory(directory):\n",
        "    for root, _, files in os.walk(directory):\n",
        "        for file in files:\n",
        "            if file.endswith('.py'):\n",
        "                file_path = os.path.join(root, file)\n",
        "                replace_in_file(file_path)\n",
        "\n",
        "# dolfin\n",
        "try:\n",
        "    import dolfin\n",
        "except ImportError:\n",
        "    !wget \"https://fem-on-colab.github.io/releases/fenics-install-real.sh\" -O \"/tmp/fenics-install.sh\" && bash \"/tmp/fenics-install.sh\"\n",
        "\n",
        "# block\n",
        "try:\n",
        "    import block\n",
        "except ImportError:\n",
        "    !git clone \"https://bitbucket.org/fenics-apps/cbc.block/src/master/\"\n",
        "    !pip install master/\n",
        "\n",
        "# fenics_ii\n",
        "try:\n",
        "    import xii\n",
        "except ImportError:\n",
        "    !git clone \"https://github.com/MiroK/fenics_ii\"\n",
        "    process_directory(\"fenics_ii/\")\n",
        "    !pip install fenics_ii/\n",
        "\n",
        "# graphnics\n",
        "try:\n",
        "    import graphnics\n",
        "except ImportError:\n",
        "    !git clone \"https://github.com/IngeborgGjerde/graphnics\"\n",
        "    !pip install graphnics/"
      ]
    },
    {
      "cell_type": "code",
      "execution_count": 3,
      "metadata": {
        "id": "983JJSszkZse",
        "colab": {
          "base_uri": "https://localhost:8080/"
        },
        "outputId": "d14c1d8a-e03b-47e5-8a5e-a900d6381801"
      },
      "outputs": [
        {
          "output_type": "stream",
          "name": "stderr",
          "text": [
            "/usr/local/lib/python3.10/dist-packages/block/__init__.py:15: UserWarning: The cbc.block repository has moved to https://github.com/blocknics/cbc.block\n",
            "  warnings.warn('The cbc.block repository has moved to https://github.com/blocknics/cbc.block', UserWarning)\n"
          ]
        },
        {
          "output_type": "stream",
          "name": "stdout",
          "text": [
            "Missing HsMG for fract norm computing\n"
          ]
        }
      ],
      "source": [
        "WD_PATH = \"/content/drive/MyDrive/Research/3D-1D\"\n",
        "\n",
        "import sys, os\n",
        "sys.path.append(os.path.join(WD_PATH, 'modules'))\n",
        "\n",
        "import FEMSink\n",
        "import FEMSinkVelo\n",
        "import numpy as np\n",
        "import matplotlib.pyplot as plt\n",
        "import networkx as nx\n",
        "import importlib\n",
        "from graphnics import *"
      ]
    },
    {
      "cell_type": "code",
      "execution_count": null,
      "metadata": {
        "id": "jelYOgdo5Q4L",
        "cellView": "form"
      },
      "outputs": [],
      "source": [
        "# @title Define G = .vtk domain read\n",
        "import vtk\n",
        "\n",
        "def read_vtk(file_path):\n",
        "    reader = vtk.vtkPolyDataReader()\n",
        "    reader.SetFileName(file_path)\n",
        "    reader.Update()\n",
        "    output = reader.GetOutput()\n",
        "\n",
        "    G = FenicsGraph()\n",
        "\n",
        "    damage_array = output.GetPointData().GetArray(\"Damage\")\n",
        "    for i in range(output.GetNumberOfPoints()):\n",
        "        point = output.GetPoint(i)\n",
        "        damage_value = damage_array.GetValue(i)\n",
        "        G.add_node(i, pos=np.array(tuple(point)), damage=damage_value)\n",
        "\n",
        "    radius_array = output.GetCellData().GetArray(\"Radius\")\n",
        "    for i in range(output.GetNumberOfCells()):\n",
        "        cell = output.GetCell(i)\n",
        "        point_ids = [cell.GetPointId(j) for j in range(cell.GetNumberOfPoints())]\n",
        "        for j in range(len(point_ids) - 1):\n",
        "            u = point_ids[j]\n",
        "            v = point_ids[j + 1]\n",
        "            radius_value = radius_array.GetValue(i) if radius_array else None\n",
        "            G.add_edge(u, v, radius=radius_value)\n",
        "\n",
        "    return G\n",
        "\n",
        "file_path = \"/content/drive/MyDrive/Research/3D-1D/oncopigData/ZPAF23S021/20230503/sortedDomain.vtk\"\n",
        "# file_path = WD_PATH + '/oncopigReferenceData/ZPAF23S018/20230531/vesselNetwork_upDated.vtk'\n",
        "G = read_vtk(file_path)"
      ]
    },
    {
      "cell_type": "code",
      "source": [
        "#@title Define G = test graph\n",
        "# Import the necessary library\n",
        "G = FenicsGraph()\n",
        "\n",
        "# Define the node labels and their corresponding integer IDs\n",
        "node_mapping = {\n",
        "    0: 'A',\n",
        "    1: 'B',\n",
        "    2: 'C',\n",
        "    3: 'D',\n",
        "    4: 'E',\n",
        "    5: 'F',\n",
        "    6: 'G',\n",
        "    7: 'H'\n",
        "}\n",
        "\n",
        "# Define the coordinates for each node (x, y, z)\n",
        "node_coords = {\n",
        "    0: [0, 20, 15],    # A\n",
        "    1: [10, 20, 15],   # B\n",
        "    2: [22, 13, 15],   # C\n",
        "    3: [22, 28, 15],   # D\n",
        "    4: [15, 5, 15],    # E\n",
        "    5: [15, 35, 15],   # F\n",
        "    6: [38, 5, 15],    # G\n",
        "    7: [38, 35, 15]    # H\n",
        "}\n",
        "\n",
        "# Define the edges along with their radii\n",
        "edges_with_radii = [\n",
        "    (0, 1, 4),  # AB\n",
        "    (1, 2, 3),  # BC\n",
        "    (1, 3, 3),  # BD\n",
        "    (2, 4, 2),  # CE\n",
        "    (2, 6, 3),  # CG\n",
        "    (3, 5, 2),  # DF\n",
        "    (3, 7, 3)   # DH\n",
        "]\n",
        "\n",
        "# Create the FenicsGraph object\n",
        "G = FenicsGraph()\n",
        "\n",
        "# Add nodes to the graph with their positions\n",
        "for node_id, coord in node_coords.items():\n",
        "    G.add_node(node_id, pos=coord)\n",
        "\n",
        "# Add edges to the graph with their radii\n",
        "for u, v, radius in edges_with_radii:\n",
        "    G.add_edge(u, v, radius=radius)\n",
        "\n",
        "for edge_id, (u, v, data) in enumerate(G.edges(data=True)):\n",
        "    print(f\"Edge {edge_id}: ({u}, {v}) - Radius: {data['radius']}\")"
      ],
      "metadata": {
        "id": "92yDZxs367cX",
        "cellView": "form"
      },
      "execution_count": 4,
      "outputs": []
    },
    {
      "cell_type": "code",
      "source": [
        "importlib.reload(FEMSinkVelo)"
      ],
      "metadata": {
        "colab": {
          "base_uri": "https://localhost:8080/"
        },
        "id": "PUj-t1ncgc1j",
        "outputId": "d4d268d2-d5c5-4d94-ac63-38428b46c034"
      },
      "execution_count": 25,
      "outputs": [
        {
          "output_type": "execute_result",
          "data": {
            "text/plain": [
              "<module 'FEMSinkVelo' from '/content/drive/MyDrive/Research/3D-1D/modules/FEMSinkVelo.py'>"
            ]
          },
          "metadata": {},
          "execution_count": 25
        }
      ]
    },
    {
      "cell_type": "code",
      "source": [
        "fem_test = FEMSinkVelo.FEMSinkVelo(\n",
        "    G=G,\n",
        "    gamma = 1.0,\n",
        "    gamma_R = 1.0,\n",
        "    gamma_v = 1.0,\n",
        "    gamma_a = 1.0,\n",
        "    mu = 1.0,\n",
        "    k_t = 1.0,\n",
        "    k_v = 1.0,\n",
        "    P_in = 1.0,\n",
        "    P_cvp = 1.0,\n",
        "    Lambda_endpoints=[0],\n",
        "    Omega_box=[0, 0, 0, 40, 40, 30],\n",
        ")"
      ],
      "metadata": {
        "colab": {
          "base_uri": "https://localhost:8080/"
        },
        "id": "0EH1o3qqgPE2",
        "outputId": "3e34d359-cd96-439d-db16-851b7021b453"
      },
      "execution_count": 28,
      "outputs": [
        {
          "output_type": "stream",
          "name": "stderr",
          "text": [
            "Averaging over 14 cells: 100%|██████████| 14/14 [00:00<00:00, 679.22it/s]\n"
          ]
        }
      ]
    },
    {
      "cell_type": "code",
      "source": [
        "fem_test.save_vtk(os.path.join(WD_PATH, 'perfusion_results', 'test_velo_a1'))"
      ],
      "metadata": {
        "id": "g8USn4efJibL"
      },
      "execution_count": 30,
      "outputs": []
    }
  ],
  "metadata": {
    "colab": {
      "provenance": [],
      "include_colab_link": true
    },
    "kernelspec": {
      "display_name": "Python 3",
      "name": "python3"
    },
    "language_info": {
      "name": "python"
    }
  },
  "nbformat": 4,
  "nbformat_minor": 0
}